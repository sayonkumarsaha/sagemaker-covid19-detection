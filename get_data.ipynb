{
 "cells": [
  {
   "cell_type": "code",
   "execution_count": 1,
   "id": "6211c2b6",
   "metadata": {},
   "outputs": [],
   "source": [
    "import boto3\n",
    "import time\n",
    "import zipfile\n",
    "from io import BytesIO\n",
    "import sagemaker"
   ]
  },
  {
   "cell_type": "code",
   "execution_count": 9,
   "id": "c945b2dd",
   "metadata": {},
   "outputs": [],
   "source": [
    "# 630 MB dataset\n",
    "#DATASET_SOURCE = {\n",
    "#    'Bucket': 'aws-jam-challenge-resources',\n",
    "#    'Key': 'covid-19-with-sage-maker/radiography_train_data.zip'\n",
    "#}\n",
    "\n",
    "# 3 MB dataset\n",
    "#DATASET_SOURCE = {\n",
    "#    'Bucket': 'aws-jam-challenge-resources',\n",
    "#    'Key': 'covid-19-with-sage-maker/radiography_train_data_10.zip'\n",
    "#}\n",
    "\n",
    "\n",
    "# 630 MB dataset\n",
    "#LOCAL_ZIP = 'dataset/radiography_train_data.zip'\n",
    "\n",
    "# 3 MB dataset\n",
    "LOCAL_ZIP = 'dataset/radiography_train_data_10.zip'"
   ]
  },
  {
   "cell_type": "markdown",
   "id": "dd0a0a3d",
   "metadata": {},
   "source": [
    "### Fetching default S3 Bucket in the JAM Account"
   ]
  },
  {
   "cell_type": "code",
   "execution_count": 5,
   "id": "4535e45a",
   "metadata": {},
   "outputs": [
    {
     "name": "stdout",
     "output_type": "stream",
     "text": [
      "SageMaker Default Bucket for Training Data:  sagemaker-us-east-1-445757850280\n"
     ]
    }
   ],
   "source": [
    "s3_resource = boto3.resource('s3')\n",
    "\n",
    "all_buckets = s3_resource.buckets.all()\n",
    "for bucket in all_buckets:\n",
    "    if (bucket.name.startswith('sagemaker')):\n",
    "        BUCKET = bucket.name\n",
    "        print (\"SageMaker Default Bucket for Training Data: \", BUCKET)\n",
    "        \n",
    "jam_bucket = s3_resource.Bucket(BUCKET)"
   ]
  },
  {
   "cell_type": "markdown",
   "id": "39792598",
   "metadata": {},
   "source": [
    "### Creating S3 Bucket in the JAM Account"
   ]
  },
  {
   "cell_type": "code",
   "execution_count": 7,
   "id": "4011648e",
   "metadata": {},
   "outputs": [
    {
     "data": {
      "text/plain": [
       "'\\nBUCKET = \"covid-19-image-dataset-\"+str(int(time.time()))\\nREGION = \"us-west-1\"\\ns3_client = boto3.client(\\'s3\\', region_name=REGION)\\ns3_resource = boto3.resource(\\'s3\\')\\njam_bucket = s3_resource.Bucket(BUCKET)\\n\\nprint (\"Creating Bucket: \", BUCKET)\\ns3_client.create_bucket(Bucket=BUCKET,\\n                        CreateBucketConfiguration={\\'LocationConstraint\\': REGION})\\n'"
      ]
     },
     "execution_count": 7,
     "metadata": {},
     "output_type": "execute_result"
    }
   ],
   "source": [
    "# Creating Default S3 Bucket in the JAM Account\n",
    "'''\n",
    "# get the region and sagemaker session\n",
    "region = boto3.Session().region_name\n",
    "session = sagemaker.Session()\n",
    "\n",
    "# create a sagemaker default bucket\n",
    "BUCKET = session.default_bucket() \n",
    "print (\"Created Default Bucket: \", BUCKET)\n",
    "\n",
    "s3_resource = boto3.resource('s3')\n",
    "jam_bucket = s3_resource.Bucket(BUCKET)\n",
    "'''\n",
    "\n",
    "# Creating Default S3 Bucket in the JAM Account\n",
    "'''\n",
    "BUCKET = \"covid-19-image-dataset-\"+str(int(time.time()))\n",
    "REGION = \"us-west-1\"\n",
    "s3_client = boto3.client('s3', region_name=REGION)\n",
    "s3_resource = boto3.resource('s3')\n",
    "jam_bucket = s3_resource.Bucket(BUCKET)\n",
    "\n",
    "print (\"Creating Bucket: \", BUCKET)\n",
    "s3_client.create_bucket(Bucket=BUCKET,\n",
    "                        CreateBucketConfiguration={'LocationConstraint': REGION})\n",
    "'''"
   ]
  },
  {
   "cell_type": "markdown",
   "id": "c95672b5",
   "metadata": {},
   "source": [
    "### Copying zipped Dataset into the local S3 Bucket"
   ]
  },
  {
   "cell_type": "code",
   "execution_count": 8,
   "id": "99eeabe1",
   "metadata": {},
   "outputs": [
    {
     "data": {
      "text/plain": [
       "'\\nprint (\"Copying Data from: \", DATASET_SOURCE)\\njam_bucket.copy(DATASET_SOURCE, LOCAL_ZIP)\\n'"
      ]
     },
     "execution_count": 8,
     "metadata": {},
     "output_type": "execute_result"
    }
   ],
   "source": [
    "'''\n",
    "print (\"Copying Data from: \", DATASET_SOURCE)\n",
    "jam_bucket.copy(DATASET_SOURCE, LOCAL_ZIP)\n",
    "'''"
   ]
  },
  {
   "cell_type": "markdown",
   "id": "e72ce83c",
   "metadata": {},
   "source": [
    "### Unzipping Dataset"
   ]
  },
  {
   "cell_type": "code",
   "execution_count": 10,
   "id": "b9fec9bd",
   "metadata": {},
   "outputs": [
    {
     "name": "stdout",
     "output_type": "stream",
     "text": [
      "Unzipping  dataset/radiography_train_data_10.zip\n",
      "Completed Unzipping Training Data\n"
     ]
    },
    {
     "data": {
      "text/plain": [
       "[{'ResponseMetadata': {'RequestId': '6G010HD553H6FCHP',\n",
       "   'HostId': 'miRDf9VfUw/0kvLXVh0WvvWzD9OO7gEX2IGZUmaIJZl+qY/gEkyNeLTui6JfU+HTmXrc329b1KQ=',\n",
       "   'HTTPStatusCode': 200,\n",
       "   'HTTPHeaders': {'x-amz-id-2': 'miRDf9VfUw/0kvLXVh0WvvWzD9OO7gEX2IGZUmaIJZl+qY/gEkyNeLTui6JfU+HTmXrc329b1KQ=',\n",
       "    'x-amz-request-id': '6G010HD553H6FCHP',\n",
       "    'date': 'Wed, 03 Nov 2021 11:28:40 GMT',\n",
       "    'content-type': 'application/xml',\n",
       "    'transfer-encoding': 'chunked',\n",
       "    'server': 'AmazonS3',\n",
       "    'connection': 'close'},\n",
       "   'RetryAttempts': 0},\n",
       "  'Deleted': [{'Key': 'dataset/radiography_train_data_10.zip'}]}]"
      ]
     },
     "execution_count": 10,
     "metadata": {},
     "output_type": "execute_result"
    }
   ],
   "source": [
    "print (\"Unzipping \", LOCAL_ZIP)\n",
    "zip_obj = s3_resource.Object(bucket_name=BUCKET, key=LOCAL_ZIP)\n",
    "buffer = BytesIO(zip_obj.get()[\"Body\"].read())\n",
    "z = zipfile.ZipFile(buffer)\n",
    "for filename in z.namelist():\n",
    "    file_info = z.getinfo(filename)\n",
    "    s3_resource.meta.client.upload_fileobj(\n",
    "        z.open(filename),\n",
    "        Bucket=BUCKET,\n",
    "        Key=f'{filename}'\n",
    "    )\n",
    "print (\"Completed Unzipping Training Data\")\n",
    "jam_bucket.objects.filter(Prefix=\"dataset/\").delete()"
   ]
  },
  {
   "cell_type": "markdown",
   "id": "95097d6f",
   "metadata": {},
   "source": [
    "## Compute average file size"
   ]
  },
  {
   "cell_type": "code",
   "execution_count": 13,
   "id": "ea7dffcd",
   "metadata": {},
   "outputs": [
    {
     "name": "stdout",
     "output_type": "stream",
     "text": [
      "37378.775\n"
     ]
    }
   ],
   "source": [
    "def get_size(bucket, path):\n",
    "    s3 = boto3.resource('s3')\n",
    "    my_bucket = s3.Bucket(bucket)\n",
    "    total_size = 0\n",
    "    image_count = 0\n",
    "    for obj in my_bucket.objects.filter(Prefix=path):\n",
    "        if \".png\" in obj.key:\n",
    "            total_size = total_size + obj.size\n",
    "            image_count = image_count + 1\n",
    "\n",
    "    return total_size, image_count\n",
    "\n",
    "folder_size, image_count = get_size(BUCKET, 'radiography_train_data_10')\n",
    "average_image_size = folder_size / image_count\n",
    "print (average_image_size)"
   ]
  }
 ],
 "metadata": {
  "kernelspec": {
   "display_name": "conda_python3",
   "language": "python",
   "name": "conda_python3"
  },
  "language_info": {
   "codemirror_mode": {
    "name": "ipython",
    "version": 3
   },
   "file_extension": ".py",
   "mimetype": "text/x-python",
   "name": "python",
   "nbconvert_exporter": "python",
   "pygments_lexer": "ipython3",
   "version": "3.6.13"
  }
 },
 "nbformat": 4,
 "nbformat_minor": 5
}
