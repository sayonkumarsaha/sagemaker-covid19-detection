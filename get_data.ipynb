{
 "cells": [
  {
   "cell_type": "code",
   "execution_count": 19,
   "id": "entire-forge",
   "metadata": {},
   "outputs": [],
   "source": [
    "import boto3\n",
    "import time\n",
    "import zipfile\n",
    "from io import BytesIO\n",
    "import sagemaker"
   ]
  },
  {
   "cell_type": "code",
   "execution_count": 20,
   "id": "ahead-genealogy",
   "metadata": {},
   "outputs": [],
   "source": [
    "# 630 MB dataset\n",
    "#DATASET_SOURCE = {\n",
    "#    'Bucket': 'aws-jam-challenge-resources',\n",
    "#    'Key': 'covid-19-with-sage-maker/radiography_train_data.zip'\n",
    "#}\n",
    "#LOCAL_ZIP = 'dataset/radiography_train_data.zip'\n",
    "\n",
    "# 3 MB dataset\n",
    "DATASET_SOURCE = {\n",
    "    'Bucket': 'aws-jam-challenge-resources',\n",
    "    'Key': 'covid-19-with-sage-maker/radiography_train_data_10.zip'\n",
    "}\n",
    "LOCAL_ZIP = 'dataset/radiography_train_data_10.zip'"
   ]
  },
  {
   "cell_type": "markdown",
   "id": "sought-launch",
   "metadata": {},
   "source": [
    "### Creating default S3 Bucket in the JAM Account"
   ]
  },
  {
   "cell_type": "code",
   "execution_count": 21,
   "id": "devoted-vehicle",
   "metadata": {},
   "outputs": [
    {
     "name": "stdout",
     "output_type": "stream",
     "text": [
      "Created Default Bucket:  sagemaker-eu-central-1-154108359553\n"
     ]
    }
   ],
   "source": [
    "# get the region and sagemaker session\n",
    "region = boto3.Session().region_name\n",
    "session = sagemaker.Session()\n",
    "\n",
    "# create a sagemaker default bucket\n",
    "BUCKET = session.default_bucket() \n",
    "print (\"Created Default Bucket: \", BUCKET)\n",
    "\n",
    "s3_resource = boto3.resource('s3')\n",
    "jam_bucket = s3_resource.Bucket(BUCKET)"
   ]
  },
  {
   "cell_type": "markdown",
   "id": "everyday-consolidation",
   "metadata": {},
   "source": [
    "### Creating local S3 Bucket in the JAM Account"
   ]
  },
  {
   "cell_type": "code",
   "execution_count": 22,
   "id": "touched-general",
   "metadata": {},
   "outputs": [
    {
     "data": {
      "text/plain": [
       "'\\nBUCKET = \"covid-19-image-dataset-\"+str(int(time.time()))\\nREGION = \"us-west-1\"\\ns3_client = boto3.client(\\'s3\\', region_name=REGION)\\ns3_resource = boto3.resource(\\'s3\\')\\njam_bucket = s3_resource.Bucket(BUCKET)\\n\\nprint (\"Creating Bucket: \", BUCKET)\\ns3_client.create_bucket(Bucket=BUCKET,\\n                        CreateBucketConfiguration={\\'LocationConstraint\\': REGION})\\n'"
      ]
     },
     "execution_count": 22,
     "metadata": {},
     "output_type": "execute_result"
    }
   ],
   "source": [
    "'''\n",
    "BUCKET = \"covid-19-image-dataset-\"+str(int(time.time()))\n",
    "REGION = \"us-west-1\"\n",
    "s3_client = boto3.client('s3', region_name=REGION)\n",
    "s3_resource = boto3.resource('s3')\n",
    "jam_bucket = s3_resource.Bucket(BUCKET)\n",
    "\n",
    "print (\"Creating Bucket: \", BUCKET)\n",
    "s3_client.create_bucket(Bucket=BUCKET,\n",
    "                        CreateBucketConfiguration={'LocationConstraint': REGION})\n",
    "'''"
   ]
  },
  {
   "cell_type": "markdown",
   "id": "rough-programmer",
   "metadata": {},
   "source": [
    "### Copying zipped Dataset into the local S3 Bucket"
   ]
  },
  {
   "cell_type": "code",
   "execution_count": 23,
   "id": "portuguese-budget",
   "metadata": {},
   "outputs": [
    {
     "name": "stdout",
     "output_type": "stream",
     "text": [
      "Copying Data from:  {'Bucket': 'aws-jam-challenge-resources', 'Key': 'covid-19-with-sage-maker/radiography_train_data_10.zip'}\n"
     ]
    }
   ],
   "source": [
    "print (\"Copying Data from: \", DATASET_SOURCE)\n",
    "jam_bucket.copy(DATASET_SOURCE, LOCAL_ZIP)"
   ]
  },
  {
   "cell_type": "markdown",
   "id": "employed-patient",
   "metadata": {},
   "source": [
    "### Unzipping Dataset into the local S3 Bucket"
   ]
  },
  {
   "cell_type": "code",
   "execution_count": 24,
   "id": "premium-classroom",
   "metadata": {},
   "outputs": [
    {
     "name": "stdout",
     "output_type": "stream",
     "text": [
      "Unzipping  dataset/radiography_train_data_10.zip\n",
      "Completed Unzipping Training Data\n"
     ]
    },
    {
     "data": {
      "text/plain": [
       "[{'ResponseMetadata': {'RequestId': 'KGF60R3B05Q0VVGS',\n",
       "   'HostId': 'H+DpBsfE32uRfdkhJdV4AYRNeJY00slbXpL4VZ6pCE4tGAuCbiTSD2nInpyKa/5yRCrzH+LImpM=',\n",
       "   'HTTPStatusCode': 200,\n",
       "   'HTTPHeaders': {'x-amz-id-2': 'H+DpBsfE32uRfdkhJdV4AYRNeJY00slbXpL4VZ6pCE4tGAuCbiTSD2nInpyKa/5yRCrzH+LImpM=',\n",
       "    'x-amz-request-id': 'KGF60R3B05Q0VVGS',\n",
       "    'date': 'Tue, 02 Nov 2021 16:54:10 GMT',\n",
       "    'content-type': 'application/xml',\n",
       "    'transfer-encoding': 'chunked',\n",
       "    'server': 'AmazonS3',\n",
       "    'connection': 'close'},\n",
       "   'RetryAttempts': 0},\n",
       "  'Deleted': [{'Key': 'dataset/radiography_train_data_10.zip'}]}]"
      ]
     },
     "execution_count": 24,
     "metadata": {},
     "output_type": "execute_result"
    }
   ],
   "source": [
    "print (\"Unzipping \", LOCAL_ZIP)\n",
    "zip_obj = s3_resource.Object(bucket_name=BUCKET, key=LOCAL_ZIP)\n",
    "buffer = BytesIO(zip_obj.get()[\"Body\"].read())\n",
    "z = zipfile.ZipFile(buffer)\n",
    "for filename in z.namelist():\n",
    "    file_info = z.getinfo(filename)\n",
    "    s3_resource.meta.client.upload_fileobj(\n",
    "        z.open(filename),\n",
    "        Bucket=BUCKET,\n",
    "        Key=f'{filename}'\n",
    "    )\n",
    "print (\"Completed Unzipping Training Data\")\n",
    "jam_bucket.objects.filter(Prefix=\"dataset/\").delete()"
   ]
  }
 ],
 "metadata": {
  "kernelspec": {
   "display_name": ".venv_dev",
   "language": "python",
   "name": ".venv_dev"
  },
  "language_info": {
   "codemirror_mode": {
    "name": "ipython",
    "version": 3
   },
   "file_extension": ".py",
   "mimetype": "text/x-python",
   "name": "python",
   "nbconvert_exporter": "python",
   "pygments_lexer": "ipython3",
   "version": "3.8.2"
  }
 },
 "nbformat": 4,
 "nbformat_minor": 5
}
