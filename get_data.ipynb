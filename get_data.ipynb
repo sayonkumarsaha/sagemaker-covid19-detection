{
 "cells": [
  {
   "cell_type": "code",
   "execution_count": 49,
   "id": "floppy-couple",
   "metadata": {},
   "outputs": [],
   "source": [
    "import boto3\n",
    "import time\n",
    "import zipfile\n",
    "from io import BytesIO"
   ]
  },
  {
   "cell_type": "markdown",
   "id": "weighted-error",
   "metadata": {},
   "source": [
    "## Preparing Data in local S3 Bucket"
   ]
  },
  {
   "cell_type": "code",
   "execution_count": 50,
   "id": "second-theorem",
   "metadata": {},
   "outputs": [],
   "source": [
    "DATASET_SOURCE = {\n",
    "    'Bucket': 'aws-jam-challenge-resources',\n",
    "    'Key': 'covid-19-with-sage-maker/dataset/radiography_train_data_10.zip'\n",
    "}\n",
    "\n",
    "BUCKET = \"covid-19-image-dataset-\"+str(int(time.time()))\n",
    "REGION = \"us-west-1\"\n",
    "ZIP_KEY = 'temp/radiography_train_data_10.zip'\n",
    "\n",
    "s3_client = boto3.client('s3', region_name=REGION)\n",
    "s3_resource = boto3.resource('s3')\n",
    "jam_bucket = s3_resource.Bucket(BUCKET)"
   ]
  },
  {
   "cell_type": "markdown",
   "id": "sorted-reproduction",
   "metadata": {},
   "source": [
    "### Creating local S3 Bucket in the JAM Account"
   ]
  },
  {
   "cell_type": "code",
   "execution_count": 51,
   "id": "informal-baseline",
   "metadata": {},
   "outputs": [
    {
     "name": "stdout",
     "output_type": "stream",
     "text": [
      "Creating Bucket:  covid-19-image-dataset-1635776660\n"
     ]
    },
    {
     "data": {
      "text/plain": [
       "{'ResponseMetadata': {'RequestId': 'YBSZW5TJ3YVMKRMS',\n",
       "  'HostId': 'fbB5/PDs0V+kyZTDIRC7WMx3yZviJ+HePah9vreeCevjdn6gRb3l61+U6vxlEKq86NcCKJtJLWk=',\n",
       "  'HTTPStatusCode': 200,\n",
       "  'HTTPHeaders': {'x-amz-id-2': 'fbB5/PDs0V+kyZTDIRC7WMx3yZviJ+HePah9vreeCevjdn6gRb3l61+U6vxlEKq86NcCKJtJLWk=',\n",
       "   'x-amz-request-id': 'YBSZW5TJ3YVMKRMS',\n",
       "   'date': 'Mon, 01 Nov 2021 14:24:22 GMT',\n",
       "   'location': 'http://covid-19-image-dataset-1635776660.s3.amazonaws.com/',\n",
       "   'server': 'AmazonS3',\n",
       "   'content-length': '0'},\n",
       "  'RetryAttempts': 0},\n",
       " 'Location': 'http://covid-19-image-dataset-1635776660.s3.amazonaws.com/'}"
      ]
     },
     "execution_count": 51,
     "metadata": {},
     "output_type": "execute_result"
    }
   ],
   "source": [
    "print (\"Creating Bucket: \", BUCKET)\n",
    "s3_client.create_bucket(Bucket=BUCKET,\n",
    "                        CreateBucketConfiguration={'LocationConstraint': REGION})"
   ]
  },
  {
   "cell_type": "markdown",
   "id": "closed-tribe",
   "metadata": {},
   "source": [
    "### Copying zipped Dataset into the local S3 Bucket"
   ]
  },
  {
   "cell_type": "code",
   "execution_count": 52,
   "id": "adjusted-inspiration",
   "metadata": {},
   "outputs": [
    {
     "name": "stdout",
     "output_type": "stream",
     "text": [
      "Copying Data from:  {'Bucket': 'aws-jam-challenge-resources', 'Key': 'covid-19-with-sage-maker/dataset/radiography_train_data_10.zip'}\n"
     ]
    }
   ],
   "source": [
    "print (\"Copying Data from: \", DATASET_SOURCE)\n",
    "jam_bucket.copy(DATASET_SOURCE, ZIP_KEY)"
   ]
  },
  {
   "cell_type": "markdown",
   "id": "enhanced-placement",
   "metadata": {},
   "source": [
    "### Unzipping Dataset into the local S3 Bucket"
   ]
  },
  {
   "cell_type": "code",
   "execution_count": 53,
   "id": "acquired-orlando",
   "metadata": {},
   "outputs": [
    {
     "name": "stdout",
     "output_type": "stream",
     "text": [
      "Unzipping  temp/radiography_train_data_10.zip\n",
      "Completed Unzipping Training Data\n"
     ]
    },
    {
     "data": {
      "text/plain": [
       "[{'ResponseMetadata': {'RequestId': '9QCXKPCKK8MT8KRY',\n",
       "   'HostId': '6+TEebMgyHZxOUXwOCkNd1ynMk1ZyP2k18I9Y3LuOxZH0dejsv/KS11yA/sZ8DG2r1doixJIg88=',\n",
       "   'HTTPStatusCode': 200,\n",
       "   'HTTPHeaders': {'x-amz-id-2': '6+TEebMgyHZxOUXwOCkNd1ynMk1ZyP2k18I9Y3LuOxZH0dejsv/KS11yA/sZ8DG2r1doixJIg88=',\n",
       "    'x-amz-request-id': '9QCXKPCKK8MT8KRY',\n",
       "    'date': 'Mon, 01 Nov 2021 14:26:02 GMT',\n",
       "    'content-type': 'application/xml',\n",
       "    'transfer-encoding': 'chunked',\n",
       "    'server': 'AmazonS3',\n",
       "    'connection': 'close'},\n",
       "   'RetryAttempts': 0},\n",
       "  'Deleted': [{'Key': 'temp/radiography_train_data_10.zip'}]}]"
      ]
     },
     "execution_count": 53,
     "metadata": {},
     "output_type": "execute_result"
    }
   ],
   "source": [
    "print (\"Unzipping \", ZIP_KEY)\n",
    "zip_obj = s3_resource.Object(bucket_name=BUCKET, key=ZIP_KEY)\n",
    "buffer = BytesIO(zip_obj.get()[\"Body\"].read())\n",
    "z = zipfile.ZipFile(buffer)\n",
    "for filename in z.namelist():\n",
    "    file_info = z.getinfo(filename)\n",
    "    s3_resource.meta.client.upload_fileobj(\n",
    "        z.open(filename),\n",
    "        Bucket=BUCKET,\n",
    "        Key=f'{filename}'\n",
    "    )\n",
    "print (\"Completed Unzipping Training Data\")\n",
    "jam_bucket.objects.filter(Prefix=\"__MACOSX/\").delete()\n",
    "jam_bucket.objects.filter(Prefix=\"temp/\").delete()"
   ]
  }
 ],
 "metadata": {
  "kernelspec": {
   "display_name": ".venv_dev",
   "language": "python",
   "name": ".venv_dev"
  },
  "language_info": {
   "codemirror_mode": {
    "name": "ipython",
    "version": 3
   },
   "file_extension": ".py",
   "mimetype": "text/x-python",
   "name": "python",
   "nbconvert_exporter": "python",
   "pygments_lexer": "ipython3",
   "version": "3.8.2"
  }
 },
 "nbformat": 4,
 "nbformat_minor": 5
}
