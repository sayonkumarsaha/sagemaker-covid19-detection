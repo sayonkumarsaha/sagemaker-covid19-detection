{
 "cells": [
  {
   "cell_type": "markdown",
   "metadata": {},
   "source": [
    "# Get Started Task-2 Clue-2 "
   ]
  },
  {
   "cell_type": "markdown",
   "metadata": {},
   "source": [
    "## Initiate the boto3 session and SageMaker session\n",
    "- import libraries\n",
    "- initiate sagemaker client, and s3 resources\n",
    "- fetch sagemaker default bucket"
   ]
  },
  {
   "cell_type": "code",
   "execution_count": null,
   "metadata": {},
   "outputs": [],
   "source": [
    "# import sagemaker and s3 libraries\n",
    "import sagemaker\n",
    "import boto3"
   ]
  },
  {
   "cell_type": "code",
   "execution_count": null,
   "metadata": {},
   "outputs": [],
   "source": [
    "# get the region and sagemaker session\n",
    "region = boto3.Session().region_name\n",
    "session = sagemaker.Session()\n",
    "\n",
    "# initiate sagemaker client and s3 resources\n",
    "sm = boto3.Session().client(service_name='sagemaker', region_name=region)\n",
    "s3 = boto3.resource('s3')"
   ]
  },
  {
   "cell_type": "code",
   "execution_count": null,
   "metadata": {},
   "outputs": [],
   "source": [
    "all_buckets = s3.buckets.all()\n",
    "for bucket in all_buckets:\n",
    "    if (bucket.name.startswith('sagemaker')):\n",
    "        default_bucket = bucket.name\n",
    "        print (\"SageMaker Default Bucket for Training Data: \", default_bucket)"
   ]
  },
  {
   "cell_type": "code",
   "execution_count": null,
   "metadata": {},
   "outputs": [],
   "source": [
    "# create train_data_s3 as train data s3 path\n",
    "BUCKET = default_bucket\n",
    "TRAIN_DATA_PREFIX = 'radiography_train_data'\n",
    "TEST_DATA_PREFIX = 'radiography_test_data'\n",
    "train_data_s3 = 's3://{}/{}'.format(BUCKET, TRAIN_DATA_PREFIX)\n",
    "train_data_s3"
   ]
  },
  {
   "cell_type": "markdown",
   "metadata": {},
   "source": [
    "## Update the training script\n",
    "- download the transfer_learning_resnet.py from inventory\n",
    "- update the classes number in the transfer_learning_resnet.py file\n",
    "    - the solution can be found in Task2, clue 1\n",
    "- upload the transfer_learning_resnet.py to the default bucket, s3://{BUCKET}/{training_jobs}"
   ]
  },
  {
   "cell_type": "code",
   "execution_count": null,
   "metadata": {},
   "outputs": [],
   "source": [
    "from sagemaker.pytorch import PyTorch\n",
    "from sagemaker.pytorch import PyTorchModel\n",
    "from sagemaker import get_execution_role\n",
    "from datetime import datetime\n",
    "role = get_execution_role()"
   ]
  },
  {
   "cell_type": "code",
   "execution_count": null,
   "metadata": {},
   "outputs": [],
   "source": [
    "src_code_s3 = 's3://{}/{}'.format(BUCKET, 'training_jobs')\n",
    "training_job_output_s3 = 's3://{}/{}'.format(BUCKET, 'training_jobs_output')"
   ]
  },
  {
   "cell_type": "markdown",
   "metadata": {},
   "source": [
    "## Initiate Model Estimator"
   ]
  },
  {
   "cell_type": "code",
   "execution_count": null,
   "metadata": {},
   "outputs": [],
   "source": [
    "# Encapsulate training on SageMaker with PyTorch:\n",
    "# The complete initiation of the estimator can be found in Task2, clue 2\n",
    "train_estimator = PyTorch(entry_point='transfer_learning_resnet.py',\n",
    "                          role=role,\n",
    "                          framework_version='1.8.1',\n",
    "                          py_version='py3',\n",
    "                          debugger_hook_config=False,\n",
    "                          instance_count=1,\n",
    "                          instance_type='ml.p2.xlarge',\n",
    "                          output_path=training_job_output_s3,\n",
    "                          code_location=src_code_s3,\n",
    "                          hyperparameters={'epochs': 2,\n",
    "                                           'lr': 0.001,\n",
    "                                           'batch-size': 8\n",
    "                          }\n",
    ")"
   ]
  },
  {
   "cell_type": "code",
   "execution_count": null,
   "metadata": {},
   "outputs": [],
   "source": [
    "# Setting up File-system to import data from S3\n",
    "data_channels = {'train': sagemaker.inputs.TrainingInput(\n",
    "                          s3_data_type='S3Prefix',\n",
    "                          s3_data=train_data_s3,\n",
    "                          content_type='image/jpeg',\n",
    "                          input_mode='File'),\n",
    "                 \n",
    "                 'val': sagemaker.inputs.TrainingInput(\n",
    "                        s3_data_type='S3Prefix',\n",
    "                        s3_data=train_data_s3,\n",
    "                        content_type='image/jpeg',\n",
    "                        input_mode='File')\n",
    "}"
   ]
  },
  {
   "cell_type": "code",
   "execution_count": null,
   "metadata": {},
   "outputs": [],
   "source": [
    "# Launching SageMaker training job\n",
    "# start the training job with estimator\n",
    "# The complete initiate of the training job can be found in Task2, clue 3\n",
    "# {fill the code here} "
   ]
  }
 ],
 "metadata": {
  "instance_type": "ml.t3.medium",
  "kernelspec": {
   "display_name": "conda_python3",
   "language": "python",
   "name": "conda_python3"
  },
  "language_info": {
   "codemirror_mode": {
    "name": "ipython",
    "version": 3
   },
   "file_extension": ".py",
   "mimetype": "text/x-python",
   "name": "python",
   "nbconvert_exporter": "python",
   "pygments_lexer": "ipython3",
   "version": "3.6.13"
  }
 },
 "nbformat": 4,
 "nbformat_minor": 4
}
