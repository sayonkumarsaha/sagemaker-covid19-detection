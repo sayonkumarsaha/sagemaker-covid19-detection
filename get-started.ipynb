{
 "cells": [
  {
   "cell_type": "code",
   "execution_count": 2,
   "metadata": {},
   "outputs": [],
   "source": [
    "import sagemaker\n",
    "import boto3\n",
    "from sagemaker import get_execution_role\n",
    "from sagemaker.pytorch import PyTorch\n",
    "from sagemaker.pytorch import PyTorchModel\n",
    "from datetime import datetime"
   ]
  },
  {
   "cell_type": "code",
   "execution_count": 3,
   "metadata": {},
   "outputs": [],
   "source": [
    "region = boto3.Session().region_name\n",
    "session = sagemaker.Session()\n",
    "\n",
    "BUCKET = 'covid-19-image-dataset'\n",
    "TRAIN_DATA_PREFIX = 'radiography_train_data'\n",
    "TEST_DATA_PREFIX = 'radiography_test_data'\n",
    "\n",
    "role = get_execution_role()\n",
    "\n",
    "sm = boto3.Session().client(service_name='sagemaker',region_name=region)\n",
    "s3 = boto3.resource('s3')"
   ]
  },
  {
   "cell_type": "code",
   "execution_count": 5,
   "metadata": {},
   "outputs": [],
   "source": [
    "train_data_s3 = 's3://{}/{}'.format(BUCKET, TRAIN_DATA_PREFIX)"
   ]
  },
  {
   "cell_type": "markdown",
   "metadata": {},
   "source": [
    "## SageMaker Training"
   ]
  },
  {
   "cell_type": "code",
   "execution_count": 6,
   "metadata": {},
   "outputs": [],
   "source": [
    "src_code_s3 = 's3://{}/{}'.format(BUCKET, 'training_jobs')\n",
    "training_job_output_s3 = 's3://{}/{}'.format(BUCKET, 'training_jobs_output')"
   ]
  },
  {
   "cell_type": "code",
   "execution_count": 7,
   "metadata": {},
   "outputs": [],
   "source": [
    "# Encapsulate training on SageMaker with PyTorch:\n",
    "train_estimator = PyTorch(entry_point='transfer_learning_resnet.py',\n",
    "                          role=role,\n",
    "                          framework_version='1.8.1',\n",
    "                          py_version='py3',\n",
    "                          debugger_hook_config=False,\n",
    "                          instance_count=1,\n",
    "                          instance_type='ml.p3.2xlarge',\n",
    "                          output_path=training_job_output_s3,\n",
    "                          code_location=src_code_s3,\n",
    "                          hyperparameters={'epochs': 1,\n",
    "                                           'lr': 0.001,\n",
    "                                           'batch-size': 8\n",
    "                          }\n",
    ")"
   ]
  },
  {
   "cell_type": "code",
   "execution_count": 8,
   "metadata": {},
   "outputs": [],
   "source": [
    "# Setting up File-system to import data from S3\n",
    "data_channels = {'train': sagemaker.inputs.TrainingInput(\n",
    "                          s3_data_type='S3Prefix',\n",
    "                          s3_data=train_data_s3,\n",
    "                          content_type='image/jpeg',\n",
    "                          input_mode='File'),\n",
    "                 \n",
    "                 'val': sagemaker.inputs.TrainingInput(\n",
    "                        s3_data_type='S3Prefix',\n",
    "                        s3_data=train_data_s3,\n",
    "                        content_type='image/jpeg',\n",
    "                        input_mode='File')\n",
    "}"
   ]
  },
  {
   "cell_type": "code",
   "execution_count": 9,
   "metadata": {},
   "outputs": [
    {
     "name": "stdout",
     "output_type": "stream",
     "text": [
      "Launching Training Job: sagemaker-jam-covid19-09-40-10-716069\n",
      "2021-10-08 09:40:10 Starting - Starting the training job...\n",
      "2021-10-08 09:40:34 Starting - Launching requested ML instancesProfilerReport-1633686010: InProgress\n",
      "......\n",
      "2021-10-08 09:41:34 Starting - Preparing the instances for training......\n",
      "2021-10-08 09:42:39 Downloading - Downloading input data..................\n",
      "2021-10-08 09:45:41 Training - Downloading the training image........\u001b[34mbash: cannot set terminal process group (-1): Inappropriate ioctl for device\u001b[0m\n",
      "\u001b[34mbash: no job control in this shell\u001b[0m\n",
      "\u001b[34m2021-10-08 09:46:50,118 sagemaker-training-toolkit INFO     Imported framework sagemaker_pytorch_container.training\u001b[0m\n",
      "\u001b[34m2021-10-08 09:46:50,142 sagemaker_pytorch_container.training INFO     Block until all host DNS lookups succeed.\u001b[0m\n",
      "\u001b[34m2021-10-08 09:46:50,153 sagemaker_pytorch_container.training INFO     Invoking user training script.\u001b[0m\n",
      "\u001b[34m2021-10-08 09:46:50,827 sagemaker-training-toolkit INFO     Invoking user script\n",
      "\u001b[0m\n",
      "\u001b[34mTraining Env:\n",
      "\u001b[0m\n",
      "\u001b[34m{\n",
      "    \"additional_framework_parameters\": {},\n",
      "    \"channel_input_dirs\": {\n",
      "        \"val\": \"/opt/ml/input/data/val\",\n",
      "        \"train\": \"/opt/ml/input/data/train\"\n",
      "    },\n",
      "    \"current_host\": \"algo-1\",\n",
      "    \"framework_module\": \"sagemaker_pytorch_container.training:main\",\n",
      "    \"hosts\": [\n",
      "        \"algo-1\"\n",
      "    ],\n",
      "    \"hyperparameters\": {\n",
      "        \"batch-size\": 8,\n",
      "        \"lr\": 0.001,\n",
      "        \"epochs\": 1\n",
      "    },\n",
      "    \"input_config_dir\": \"/opt/ml/input/config\",\n",
      "    \"input_data_config\": {\n",
      "        \"val\": {\n",
      "            \"ContentType\": \"image/jpeg\",\n",
      "            \"TrainingInputMode\": \"File\",\n",
      "            \"S3DistributionType\": \"FullyReplicated\",\n",
      "            \"RecordWrapperType\": \"None\"\n",
      "        },\n",
      "        \"train\": {\n",
      "            \"ContentType\": \"image/jpeg\",\n",
      "            \"TrainingInputMode\": \"File\",\n",
      "            \"S3DistributionType\": \"FullyReplicated\",\n",
      "            \"RecordWrapperType\": \"None\"\n",
      "        }\n",
      "    },\n",
      "    \"input_dir\": \"/opt/ml/input\",\n",
      "    \"is_master\": true,\n",
      "    \"job_name\": \"sagemaker-jam-covid19-09-40-10-716069\",\n",
      "    \"log_level\": 20,\n",
      "    \"master_hostname\": \"algo-1\",\n",
      "    \"model_dir\": \"/opt/ml/model\",\n",
      "    \"module_dir\": \"s3://covid-19-image-dataset/training_jobs/sagemaker-jam-covid19-09-40-10-716069/source/sourcedir.tar.gz\",\n",
      "    \"module_name\": \"transfer_learning_resnet\",\n",
      "    \"network_interface_name\": \"eth0\",\n",
      "    \"num_cpus\": 8,\n",
      "    \"num_gpus\": 1,\n",
      "    \"output_data_dir\": \"/opt/ml/output/data\",\n",
      "    \"output_dir\": \"/opt/ml/output\",\n",
      "    \"output_intermediate_dir\": \"/opt/ml/output/intermediate\",\n",
      "    \"resource_config\": {\n",
      "        \"current_host\": \"algo-1\",\n",
      "        \"hosts\": [\n",
      "            \"algo-1\"\n",
      "        ],\n",
      "        \"network_interface_name\": \"eth0\"\n",
      "    },\n",
      "    \"user_entry_point\": \"transfer_learning_resnet.py\"\u001b[0m\n",
      "\u001b[34m}\n",
      "\u001b[0m\n",
      "\u001b[34mEnvironment variables:\n",
      "\u001b[0m\n",
      "\u001b[34mSM_HOSTS=[\"algo-1\"]\u001b[0m\n",
      "\u001b[34mSM_NETWORK_INTERFACE_NAME=eth0\u001b[0m\n",
      "\u001b[34mSM_HPS={\"batch-size\":8,\"epochs\":1,\"lr\":0.001}\u001b[0m\n",
      "\u001b[34mSM_USER_ENTRY_POINT=transfer_learning_resnet.py\u001b[0m\n",
      "\u001b[34mSM_FRAMEWORK_PARAMS={}\u001b[0m\n",
      "\u001b[34mSM_RESOURCE_CONFIG={\"current_host\":\"algo-1\",\"hosts\":[\"algo-1\"],\"network_interface_name\":\"eth0\"}\u001b[0m\n",
      "\u001b[34mSM_INPUT_DATA_CONFIG={\"train\":{\"ContentType\":\"image/jpeg\",\"RecordWrapperType\":\"None\",\"S3DistributionType\":\"FullyReplicated\",\"TrainingInputMode\":\"File\"},\"val\":{\"ContentType\":\"image/jpeg\",\"RecordWrapperType\":\"None\",\"S3DistributionType\":\"FullyReplicated\",\"TrainingInputMode\":\"File\"}}\u001b[0m\n",
      "\u001b[34mSM_OUTPUT_DATA_DIR=/opt/ml/output/data\u001b[0m\n",
      "\u001b[34mSM_CHANNELS=[\"train\",\"val\"]\u001b[0m\n",
      "\u001b[34mSM_CURRENT_HOST=algo-1\u001b[0m\n",
      "\u001b[34mSM_MODULE_NAME=transfer_learning_resnet\u001b[0m\n",
      "\u001b[34mSM_LOG_LEVEL=20\u001b[0m\n",
      "\u001b[34mSM_FRAMEWORK_MODULE=sagemaker_pytorch_container.training:main\u001b[0m\n",
      "\u001b[34mSM_INPUT_DIR=/opt/ml/input\u001b[0m\n",
      "\u001b[34mSM_INPUT_CONFIG_DIR=/opt/ml/input/config\u001b[0m\n",
      "\u001b[34mSM_OUTPUT_DIR=/opt/ml/output\u001b[0m\n",
      "\u001b[34mSM_NUM_CPUS=8\u001b[0m\n",
      "\u001b[34mSM_NUM_GPUS=1\u001b[0m\n",
      "\u001b[34mSM_MODEL_DIR=/opt/ml/model\u001b[0m\n",
      "\u001b[34mSM_MODULE_DIR=s3://covid-19-image-dataset/training_jobs/sagemaker-jam-covid19-09-40-10-716069/source/sourcedir.tar.gz\u001b[0m\n",
      "\u001b[34mSM_TRAINING_ENV={\"additional_framework_parameters\":{},\"channel_input_dirs\":{\"train\":\"/opt/ml/input/data/train\",\"val\":\"/opt/ml/input/data/val\"},\"current_host\":\"algo-1\",\"framework_module\":\"sagemaker_pytorch_container.training:main\",\"hosts\":[\"algo-1\"],\"hyperparameters\":{\"batch-size\":8,\"epochs\":1,\"lr\":0.001},\"input_config_dir\":\"/opt/ml/input/config\",\"input_data_config\":{\"train\":{\"ContentType\":\"image/jpeg\",\"RecordWrapperType\":\"None\",\"S3DistributionType\":\"FullyReplicated\",\"TrainingInputMode\":\"File\"},\"val\":{\"ContentType\":\"image/jpeg\",\"RecordWrapperType\":\"None\",\"S3DistributionType\":\"FullyReplicated\",\"TrainingInputMode\":\"File\"}},\"input_dir\":\"/opt/ml/input\",\"is_master\":true,\"job_name\":\"sagemaker-jam-covid19-09-40-10-716069\",\"log_level\":20,\"master_hostname\":\"algo-1\",\"model_dir\":\"/opt/ml/model\",\"module_dir\":\"s3://covid-19-image-dataset/training_jobs/sagemaker-jam-covid19-09-40-10-716069/source/sourcedir.tar.gz\",\"module_name\":\"transfer_learning_resnet\",\"network_interface_name\":\"eth0\",\"num_cpus\":8,\"num_gpus\":1,\"output_data_dir\":\"/opt/ml/output/data\",\"output_dir\":\"/opt/ml/output\",\"output_intermediate_dir\":\"/opt/ml/output/intermediate\",\"resource_config\":{\"current_host\":\"algo-1\",\"hosts\":[\"algo-1\"],\"network_interface_name\":\"eth0\"},\"user_entry_point\":\"transfer_learning_resnet.py\"}\u001b[0m\n",
      "\u001b[34mSM_USER_ARGS=[\"--batch-size\",\"8\",\"--epochs\",\"1\",\"--lr\",\"0.001\"]\u001b[0m\n",
      "\u001b[34mSM_OUTPUT_INTERMEDIATE_DIR=/opt/ml/output/intermediate\u001b[0m\n",
      "\u001b[34mSM_CHANNEL_VAL=/opt/ml/input/data/val\u001b[0m\n",
      "\u001b[34mSM_CHANNEL_TRAIN=/opt/ml/input/data/train\u001b[0m\n",
      "\u001b[34mSM_HP_BATCH-SIZE=8\u001b[0m\n",
      "\u001b[34mSM_HP_LR=0.001\u001b[0m\n",
      "\u001b[34mSM_HP_EPOCHS=1\u001b[0m\n",
      "\u001b[34mPYTHONPATH=/opt/ml/code:/opt/conda/bin:/opt/conda/lib/python36.zip:/opt/conda/lib/python3.6:/opt/conda/lib/python3.6/lib-dynload:/opt/conda/lib/python3.6/site-packages\n",
      "\u001b[0m\n",
      "\u001b[34mInvoking script with the following command:\n",
      "\u001b[0m\n",
      "\u001b[34m/opt/conda/bin/python3.6 transfer_learning_resnet.py --batch-size 8 --epochs 1 --lr 0.001\n",
      "\n",
      "\u001b[0m\n",
      "\n",
      "2021-10-08 09:46:55 Training - Training image download completed. Training in progress.\u001b[34mRunning Epoch 1/1\u001b[0m\n",
      "\u001b[34mtrain-loss: 0.1872 train-acc: 0.9786\u001b[0m\n",
      "\n",
      "2021-10-08 09:48:05 Uploading - Uploading generated training model\u001b[34mval-loss: 6.4861 val-acc: 0.0634\u001b[0m\n",
      "\u001b[34mEpoch completed in 61.56s\u001b[0m\n",
      "\u001b[34m-------------------------\u001b[0m\n",
      "\u001b[34mSeconds per Epoch: 61.56\u001b[0m\n",
      "\u001b[34mSaving the model.\u001b[0m\n",
      "\u001b[34mINFO:__main__:Saving the model.\n",
      "\u001b[0m\n",
      "\u001b[34m2021-10-08 09:48:01,537 sagemaker-training-toolkit INFO     Reporting training SUCCESS\u001b[0m\n",
      "\n",
      "2021-10-08 09:48:36 Completed - Training job completed\n",
      "ProfilerReport-1633686010: NoIssuesFound\n",
      "Training seconds: 339\n",
      "Billable seconds: 339\n"
     ]
    }
   ],
   "source": [
    "# Launching SageMaker training job\n",
    "job_name = 'sagemaker-jam-covid19-' + str(datetime.now().strftime(\"%H-%M-%S-%f\"))\n",
    "print ('Launching Training Job:', job_name)\n",
    "train_estimator.fit(inputs=data_channels, job_name=job_name)"
   ]
  },
  {
   "cell_type": "markdown",
   "metadata": {},
   "source": [
    "# SageMaker Inference"
   ]
  },
  {
   "cell_type": "code",
   "execution_count": 14,
   "metadata": {},
   "outputs": [],
   "source": [
    "inference_job_output_s3 = 's3://{}/{}'.format(BUCKET, 'inference_jobs_output')\n",
    "inference_input_data_s3 = 's3://{}/{}'.format(BUCKET, 'test_data')"
   ]
  },
  {
   "cell_type": "code",
   "execution_count": 15,
   "metadata": {},
   "outputs": [],
   "source": [
    "JOB_NAME = 'sagemaker-jam-covid19-09-40-10-716069'\n",
    "inference_model_artefact_s3 = 's3://{}/{}/{}/{}'.format(BUCKET, 'training_jobs_output', JOB_NAME, 'output/model.tar.gz')"
   ]
  },
  {
   "cell_type": "code",
   "execution_count": 16,
   "metadata": {},
   "outputs": [],
   "source": [
    "from sagemaker.pytorch import PyTorchModel\n",
    "prediction_model = PyTorchModel(entry_point = 'transfer_learning_resnet.py',\n",
    "                           model_data = inference_model_artefact_s3,\n",
    "                           role = role,\n",
    "                           framework_version = '1.8.0',\n",
    "                           py_version = 'py3') "
   ]
  },
  {
   "cell_type": "code",
   "execution_count": 17,
   "metadata": {},
   "outputs": [],
   "source": [
    "prediction_transformer = prediction_model.transformer(instance_count = 1,\n",
    "                                                      instance_type = 'ml.g4dn.xlarge',\n",
    "                                                      output_path = inference_job_output_s3)"
   ]
  },
  {
   "cell_type": "code",
   "execution_count": null,
   "metadata": {},
   "outputs": [],
   "source": [
    "inference_job_name = 'sagemaker-jam-covid19-pred-' + str(datetime.now().strftime(\"%H-%M-%S-%f\"))\n",
    "print ('Launching Remote Batch Transform inference Job: ' + str(inference_job_name))\n",
    "prediction_transformer.transform(data = inference_input_data_s3,\n",
    "                                 data_type = 'S3Prefix', \n",
    "                                 content_type = 'application/x-image')"
   ]
  }
 ],
 "metadata": {
  "instance_type": "ml.t3.medium",
  "kernelspec": {
   "display_name": "conda_python3",
   "language": "python",
   "name": "conda_python3"
  },
  "language_info": {
   "codemirror_mode": {
    "name": "ipython",
    "version": 3
   },
   "file_extension": ".py",
   "mimetype": "text/x-python",
   "name": "python",
   "nbconvert_exporter": "python",
   "pygments_lexer": "ipython3",
   "version": "3.6.13"
  }
 },
 "nbformat": 4,
 "nbformat_minor": 4
}
