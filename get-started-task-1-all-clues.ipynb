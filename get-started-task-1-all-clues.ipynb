{
 "cells": [
  {
   "cell_type": "markdown",
   "id": "ready-tackle",
   "metadata": {},
   "source": [
    "## Task-01 Clue-02: Fetching S3 Bucket with dataset"
   ]
  },
  {
   "cell_type": "code",
   "execution_count": null,
   "id": "plain-agency",
   "metadata": {},
   "outputs": [],
   "source": [
    "import boto3\n",
    "  \n",
    "s3_resource = boto3.resource('s3')\n",
    "all_buckets = s3_resource.buckets.all()\n",
    "\n",
    "for bucket in all_buckets:\n",
    "    if (bucket.name.startswith('sagemaker')):\n",
    "        BUCKET = bucket.name\n",
    "        print (\"SageMaker Default Bucket for Training Data: \", BUCKET)\n",
    "\n",
    "jam_bucket = s3_resource.Bucket(BUCKET)"
   ]
  },
  {
   "cell_type": "markdown",
   "id": "extensive-symposium",
   "metadata": {},
   "source": [
    "## Task-01 Clue-03: Extracting Zipped Dataset into S3"
   ]
  },
  {
   "cell_type": "code",
   "execution_count": null,
   "id": "optimum-violence",
   "metadata": {},
   "outputs": [],
   "source": [
    "import boto3\n",
    "import zipfile\n",
    "from io import BytesIO\n",
    "\n",
    "ZIPPED_DATA = 'radiography_train_data.zip'\n",
    "TRAIN_DATA_PREFIX = 'radiography_train_data'\n",
    "\n",
    "print (\"Unzipping \", ZIPPED_DATA)\n",
    "zip_obj = s3_resource.Object(bucket_name=BUCKET, key=ZIPPED_DATA)\n",
    "buffer = BytesIO(zip_obj.get()[\"Body\"].read())\n",
    "z = zipfile.ZipFile(buffer)\n",
    "for filename in z.namelist():\n",
    "    file_info = z.getinfo(filename)\n",
    "    s3_resource.meta.client.upload_fileobj(\n",
    "        z.open(filename),\n",
    "        Bucket=BUCKET,\n",
    "        Key=TRAIN_DATA_PREFIX+'/'+f'{filename}'\n",
    "    )\n",
    "print (\"Completed Unzipping Training Data\")"
   ]
  },
  {
   "cell_type": "markdown",
   "id": "handy-organization",
   "metadata": {},
   "source": [
    "## Task-01 Clue-04: Extracting Zipped Dataset into S3"
   ]
  },
  {
   "cell_type": "code",
   "execution_count": null,
   "id": "employed-technical",
   "metadata": {},
   "outputs": [],
   "source": [
    "import boto3\n",
    "\n",
    "def get_size(bucket, path):\n",
    "    s3 = boto3.resource('s3')\n",
    "    my_bucket = s3.Bucket(bucket)\n",
    "    total_size = 0\n",
    "    image_count = 0\n",
    "    for obj in my_bucket.objects.filter(Prefix=path):\n",
    "        if \".png\" in obj.key:\n",
    "            total_size = total_size + obj.size\n",
    "            image_count = image_count + 1\n",
    "    return total_size, image_count\n",
    "\n",
    "folder_size, image_count = get_size(BUCKET, PREFIX)\n",
    "average_image_size = folder_size / image_count\n",
    "print (average_image_size)"
   ]
  }
 ],
 "metadata": {
  "kernelspec": {
   "display_name": ".venv_dev",
   "language": "python",
   "name": ".venv_dev"
  },
  "language_info": {
   "codemirror_mode": {
    "name": "ipython",
    "version": 3
   },
   "file_extension": ".py",
   "mimetype": "text/x-python",
   "name": "python",
   "nbconvert_exporter": "python",
   "pygments_lexer": "ipython3",
   "version": "3.8.2"
  }
 },
 "nbformat": 4,
 "nbformat_minor": 5
}
